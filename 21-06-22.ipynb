{
  "nbformat": 4,
  "nbformat_minor": 0,
  "metadata": {
    "colab": {
      "name": "Untitled0.ipynb",
      "provenance": [],
      "authorship_tag": "ABX9TyN2LXCKA/Fr4GPpLDS5tdoT",
      "include_colab_link": true
    },
    "kernelspec": {
      "name": "python3",
      "display_name": "Python 3"
    },
    "language_info": {
      "name": "python"
    }
  },
  "cells": [
    {
      "cell_type": "markdown",
      "metadata": {
        "id": "view-in-github",
        "colab_type": "text"
      },
      "source": [
        "<a href=\"https://colab.research.google.com/github/DakkaliBhumika/CSEP/blob/main/21-06-22.ipynb\" target=\"_parent\"><img src=\"https://colab.research.google.com/assets/colab-badge.svg\" alt=\"Open In Colab\"/></a>"
      ]
    },
    {
      "cell_type": "code",
      "execution_count": 9,
      "metadata": {
        "id": "OE1asz37iUrN",
        "colab": {
          "base_uri": "https://localhost:8080/",
          "height": 1000
        },
        "outputId": "792b9de3-4928-4bcb-b64e-442c45076ed3"
      },
      "outputs": [
        {
          "output_type": "stream",
          "name": "stdout",
          "text": [
            "binary h5###########\n",
            "[[-3.14159265e+00 -3.07812614e+00 -3.01465962e+00 -2.95119310e+00\n",
            "  -2.88772658e+00 -2.82426006e+00 -2.76079354e+00 -2.69732703e+00\n",
            "  -2.63386051e+00 -2.57039399e+00 -2.50692747e+00 -2.44346095e+00\n",
            "  -2.37999443e+00 -2.31652792e+00 -2.25306140e+00 -2.18959488e+00\n",
            "  -2.12612836e+00 -2.06266184e+00 -1.99919533e+00 -1.93572881e+00\n",
            "  -1.87226229e+00 -1.80879577e+00 -1.74532925e+00 -1.68186273e+00\n",
            "  -1.61839622e+00 -1.55492970e+00 -1.49146318e+00 -1.42799666e+00\n",
            "  -1.36453014e+00 -1.30106362e+00 -1.23759711e+00 -1.17413059e+00\n",
            "  -1.11066407e+00 -1.04719755e+00 -9.83731033e-01 -9.20264515e-01\n",
            "  -8.56797996e-01 -7.93331478e-01 -7.29864960e-01 -6.66398442e-01\n",
            "  -6.02931923e-01 -5.39465405e-01 -4.75998887e-01 -4.12532369e-01\n",
            "  -3.49065850e-01 -2.85599332e-01 -2.22132814e-01 -1.58666296e-01\n",
            "  -9.51997774e-02 -3.17332591e-02  3.17332591e-02  9.51997774e-02\n",
            "   1.58666296e-01  2.22132814e-01  2.85599332e-01  3.49065850e-01\n",
            "   4.12532369e-01  4.75998887e-01  5.39465405e-01  6.02931923e-01\n",
            "   6.66398442e-01  7.29864960e-01  7.93331478e-01  8.56797996e-01\n",
            "   9.20264515e-01  9.83731033e-01  1.04719755e+00  1.11066407e+00\n",
            "   1.17413059e+00  1.23759711e+00  1.30106362e+00  1.36453014e+00\n",
            "   1.42799666e+00  1.49146318e+00  1.55492970e+00  1.61839622e+00\n",
            "   1.68186273e+00  1.74532925e+00  1.80879577e+00  1.87226229e+00\n",
            "   1.93572881e+00  1.99919533e+00  2.06266184e+00  2.12612836e+00\n",
            "   2.18959488e+00  2.25306140e+00  2.31652792e+00  2.37999443e+00\n",
            "   2.44346095e+00  2.50692747e+00  2.57039399e+00  2.63386051e+00\n",
            "   2.69732703e+00  2.76079354e+00  2.82426006e+00  2.88772658e+00\n",
            "   2.95119310e+00  3.01465962e+00  3.07812614e+00  3.14159265e+00]\n",
            " [-1.22464680e-16 -6.34239197e-02 -1.26592454e-01 -1.89251244e-01\n",
            "  -2.51147987e-01 -3.12033446e-01 -3.71662456e-01 -4.29794912e-01\n",
            "  -4.86196736e-01 -5.40640817e-01 -5.92907929e-01 -6.42787610e-01\n",
            "  -6.90079011e-01 -7.34591709e-01 -7.76146464e-01 -8.14575952e-01\n",
            "  -8.49725430e-01 -8.81453363e-01 -9.09631995e-01 -9.34147860e-01\n",
            "  -9.54902241e-01 -9.71811568e-01 -9.84807753e-01 -9.93838464e-01\n",
            "  -9.98867339e-01 -9.99874128e-01 -9.96854776e-01 -9.89821442e-01\n",
            "  -9.78802446e-01 -9.63842159e-01 -9.45000819e-01 -9.22354294e-01\n",
            "  -8.95993774e-01 -8.66025404e-01 -8.32569855e-01 -7.95761841e-01\n",
            "  -7.55749574e-01 -7.12694171e-01 -6.66769001e-01 -6.18158986e-01\n",
            "  -5.67059864e-01 -5.13677392e-01 -4.58226522e-01 -4.00930535e-01\n",
            "  -3.42020143e-01 -2.81732557e-01 -2.20310533e-01 -1.58001396e-01\n",
            "  -9.50560433e-02 -3.17279335e-02  3.17279335e-02  9.50560433e-02\n",
            "   1.58001396e-01  2.20310533e-01  2.81732557e-01  3.42020143e-01\n",
            "   4.00930535e-01  4.58226522e-01  5.13677392e-01  5.67059864e-01\n",
            "   6.18158986e-01  6.66769001e-01  7.12694171e-01  7.55749574e-01\n",
            "   7.95761841e-01  8.32569855e-01  8.66025404e-01  8.95993774e-01\n",
            "   9.22354294e-01  9.45000819e-01  9.63842159e-01  9.78802446e-01\n",
            "   9.89821442e-01  9.96854776e-01  9.99874128e-01  9.98867339e-01\n",
            "   9.93838464e-01  9.84807753e-01  9.71811568e-01  9.54902241e-01\n",
            "   9.34147860e-01  9.09631995e-01  8.81453363e-01  8.49725430e-01\n",
            "   8.14575952e-01  7.76146464e-01  7.34591709e-01  6.90079011e-01\n",
            "   6.42787610e-01  5.92907929e-01  5.40640817e-01  4.86196736e-01\n",
            "   4.29794912e-01  3.71662456e-01  3.12033446e-01  2.51147987e-01\n",
            "   1.89251244e-01  1.26592454e-01  6.34239197e-02  1.22464680e-16]]\n",
            "binary h5################\n"
          ]
        },
        {
          "output_type": "error",
          "ename": "OSError",
          "evalue": "ignored",
          "traceback": [
            "\u001b[0;31m---------------------------------------------------------------------------\u001b[0m",
            "\u001b[0;31mOSError\u001b[0m                                   Traceback (most recent call last)",
            "\u001b[0;32m<ipython-input-9-7d152f6715cc>\u001b[0m in \u001b[0;36m<module>\u001b[0;34m()\u001b[0m\n\u001b[1;32m     19\u001b[0m \u001b[0mprint\u001b[0m\u001b[0;34m(\u001b[0m\u001b[0mdata_bin\u001b[0m\u001b[0;34m)\u001b[0m\u001b[0;34m\u001b[0m\u001b[0;34m\u001b[0m\u001b[0m\n\u001b[1;32m     20\u001b[0m \u001b[0mprint\u001b[0m\u001b[0;34m(\u001b[0m\u001b[0;34m\"binary h5################\"\u001b[0m\u001b[0;34m)\u001b[0m\u001b[0;34m\u001b[0m\u001b[0;34m\u001b[0m\u001b[0m\n\u001b[0;32m---> 21\u001b[0;31m \u001b[0mwrite_file\u001b[0m\u001b[0;34m=\u001b[0m \u001b[0mh5py\u001b[0m\u001b[0;34m.\u001b[0m\u001b[0mFile\u001b[0m\u001b[0;34m(\u001b[0m\u001b[0;34m'abc.h5'\u001b[0m\u001b[0;34m,\u001b[0m\u001b[0;34m'w'\u001b[0m\u001b[0;34m)\u001b[0m\u001b[0;34m\u001b[0m\u001b[0;34m\u001b[0m\u001b[0m\n\u001b[0m\u001b[1;32m     22\u001b[0m \u001b[0mwrite_file\u001b[0m\u001b[0;34m[\u001b[0m\u001b[0;34m'data_1'\u001b[0m\u001b[0;34m]\u001b[0m\u001b[0;34m=\u001b[0m \u001b[0mdata_array\u001b[0m\u001b[0;34m\u001b[0m\u001b[0;34m\u001b[0m\u001b[0m\n\u001b[1;32m     23\u001b[0m \u001b[0mwrite_file\u001b[0m\u001b[0;34m.\u001b[0m\u001b[0mclose\u001b[0m\u001b[0;34m(\u001b[0m\u001b[0;34m)\u001b[0m\u001b[0;34m\u001b[0m\u001b[0;34m\u001b[0m\u001b[0m\n",
            "\u001b[0;32m/usr/local/lib/python3.7/dist-packages/h5py/_hl/files.py\u001b[0m in \u001b[0;36m__init__\u001b[0;34m(self, name, mode, driver, libver, userblock_size, swmr, rdcc_nslots, rdcc_nbytes, rdcc_w0, track_order, fs_strategy, fs_persist, fs_threshold, **kwds)\u001b[0m\n\u001b[1;32m    425\u001b[0m                                fapl, fcpl=make_fcpl(track_order=track_order, fs_strategy=fs_strategy,\n\u001b[1;32m    426\u001b[0m                                fs_persist=fs_persist, fs_threshold=fs_threshold),\n\u001b[0;32m--> 427\u001b[0;31m                                swmr=swmr)\n\u001b[0m\u001b[1;32m    428\u001b[0m \u001b[0;34m\u001b[0m\u001b[0m\n\u001b[1;32m    429\u001b[0m             \u001b[0;32mif\u001b[0m \u001b[0misinstance\u001b[0m\u001b[0;34m(\u001b[0m\u001b[0mlibver\u001b[0m\u001b[0;34m,\u001b[0m \u001b[0mtuple\u001b[0m\u001b[0;34m)\u001b[0m\u001b[0;34m:\u001b[0m\u001b[0;34m\u001b[0m\u001b[0;34m\u001b[0m\u001b[0m\n",
            "\u001b[0;32m/usr/local/lib/python3.7/dist-packages/h5py/_hl/files.py\u001b[0m in \u001b[0;36mmake_fid\u001b[0;34m(name, mode, userblock_size, fapl, fcpl, swmr)\u001b[0m\n\u001b[1;32m    194\u001b[0m         \u001b[0mfid\u001b[0m \u001b[0;34m=\u001b[0m \u001b[0mh5f\u001b[0m\u001b[0;34m.\u001b[0m\u001b[0mcreate\u001b[0m\u001b[0;34m(\u001b[0m\u001b[0mname\u001b[0m\u001b[0;34m,\u001b[0m \u001b[0mh5f\u001b[0m\u001b[0;34m.\u001b[0m\u001b[0mACC_EXCL\u001b[0m\u001b[0;34m,\u001b[0m \u001b[0mfapl\u001b[0m\u001b[0;34m=\u001b[0m\u001b[0mfapl\u001b[0m\u001b[0;34m,\u001b[0m \u001b[0mfcpl\u001b[0m\u001b[0;34m=\u001b[0m\u001b[0mfcpl\u001b[0m\u001b[0;34m)\u001b[0m\u001b[0;34m\u001b[0m\u001b[0;34m\u001b[0m\u001b[0m\n\u001b[1;32m    195\u001b[0m     \u001b[0;32melif\u001b[0m \u001b[0mmode\u001b[0m \u001b[0;34m==\u001b[0m \u001b[0;34m'w'\u001b[0m\u001b[0;34m:\u001b[0m\u001b[0;34m\u001b[0m\u001b[0;34m\u001b[0m\u001b[0m\n\u001b[0;32m--> 196\u001b[0;31m         \u001b[0mfid\u001b[0m \u001b[0;34m=\u001b[0m \u001b[0mh5f\u001b[0m\u001b[0;34m.\u001b[0m\u001b[0mcreate\u001b[0m\u001b[0;34m(\u001b[0m\u001b[0mname\u001b[0m\u001b[0;34m,\u001b[0m \u001b[0mh5f\u001b[0m\u001b[0;34m.\u001b[0m\u001b[0mACC_TRUNC\u001b[0m\u001b[0;34m,\u001b[0m \u001b[0mfapl\u001b[0m\u001b[0;34m=\u001b[0m\u001b[0mfapl\u001b[0m\u001b[0;34m,\u001b[0m \u001b[0mfcpl\u001b[0m\u001b[0;34m=\u001b[0m\u001b[0mfcpl\u001b[0m\u001b[0;34m)\u001b[0m\u001b[0;34m\u001b[0m\u001b[0;34m\u001b[0m\u001b[0m\n\u001b[0m\u001b[1;32m    197\u001b[0m     \u001b[0;32melif\u001b[0m \u001b[0mmode\u001b[0m \u001b[0;34m==\u001b[0m \u001b[0;34m'a'\u001b[0m\u001b[0;34m:\u001b[0m\u001b[0;34m\u001b[0m\u001b[0;34m\u001b[0m\u001b[0m\n\u001b[1;32m    198\u001b[0m         \u001b[0;31m# Open in append mode (read/write).\u001b[0m\u001b[0;34m\u001b[0m\u001b[0;34m\u001b[0m\u001b[0;34m\u001b[0m\u001b[0m\n",
            "\u001b[0;32mh5py/_objects.pyx\u001b[0m in \u001b[0;36mh5py._objects.with_phil.wrapper\u001b[0;34m()\u001b[0m\n",
            "\u001b[0;32mh5py/_objects.pyx\u001b[0m in \u001b[0;36mh5py._objects.with_phil.wrapper\u001b[0;34m()\u001b[0m\n",
            "\u001b[0;32mh5py/h5f.pyx\u001b[0m in \u001b[0;36mh5py.h5f.create\u001b[0;34m()\u001b[0m\n",
            "\u001b[0;31mOSError\u001b[0m: Unable to create file (unable to truncate a file which is already open)"
          ]
        }
      ],
      "source": [
        "import numpy as np\n",
        "from matplotlib import pyplot as plt\n",
        "import h5py\n",
        "x= np.linspace(-np.pi,np.pi,100)\n",
        "y= np.sin(x)\n",
        "my_file= open('sin_data.txt','w')\n",
        "my_file.write('#This is my sine function.\\n')\n",
        "for i in range(len(x)):\n",
        "  my_file.write('%f \\t %f \\n'%(x[i],y[i]))\n",
        "my_file.close()\n",
        "data= np.loadtxt(\"sin_data.txt\")\n",
        "#print(data)\n",
        "#rint(data[:,0])#print x values\n",
        "#print(data[:,1])#print y values\n",
        "print(\"binary h5###########\")\n",
        "data_array=np.vstack((x,y))\n",
        "np.save('sin_data_bin',data_array)\n",
        "data_bin= np.load('sin_data_bin.npy')\n",
        "print(data_bin)\n",
        "print(\"binary h5################\")\n",
        "write_file= h5py.File('abc.h5','w')\n",
        "write_file['data_1']= data_array\n",
        "write_file.close()\n",
        "read_file=h5py.File('abc.h5')\n",
        "z=read_file[data_1]"
      ]
    },
    {
      "cell_type": "code",
      "source": [
        ""
      ],
      "metadata": {
        "id": "nqRff90CVD3Q"
      },
      "execution_count": null,
      "outputs": []
    }
  ]
}