{
  "nbformat": 4,
  "nbformat_minor": 0,
  "metadata": {
    "colab": {
      "name": "Untitled0.ipynb",
      "provenance": [],
      "authorship_tag": "ABX9TyMz5ww0NIdJHDOAUH4+xNVx",
      "include_colab_link": true
    },
    "kernelspec": {
      "name": "python3",
      "display_name": "Python 3"
    },
    "language_info": {
      "name": "python"
    }
  },
  "cells": [
    {
      "cell_type": "markdown",
      "metadata": {
        "id": "view-in-github",
        "colab_type": "text"
      },
      "source": [
        "<a href=\"https://colab.research.google.com/github/DakkaliBhumika/CSEP/blob/main/21-06-22.ipynb\" target=\"_parent\"><img src=\"https://colab.research.google.com/assets/colab-badge.svg\" alt=\"Open In Colab\"/></a>"
      ]
    },
    {
      "cell_type": "code",
      "execution_count": 16,
      "metadata": {
        "id": "OE1asz37iUrN",
        "colab": {
          "base_uri": "https://localhost:8080/",
          "height": 132
        },
        "outputId": "e778b118-2fc1-4eca-c407-ab3be280d65a"
      },
      "outputs": [
        {
          "output_type": "error",
          "ename": "SyntaxError",
          "evalue": "ignored",
          "traceback": [
            "\u001b[0;36m  File \u001b[0;32m\"<ipython-input-16-6b52ec29a879>\"\u001b[0;36m, line \u001b[0;32m29\u001b[0m\n\u001b[0;31m    data = read_file[‘data_1’]\u001b[0m\n\u001b[0m                            ^\u001b[0m\n\u001b[0;31mSyntaxError\u001b[0m\u001b[0;31m:\u001b[0m invalid character in identifier\n"
          ]
        }
      ],
      "source": [
        "import numpy as np\n",
        "from matplotlib import pyplot as plt\n",
        "import h5py\n",
        "import timeit\n",
        "x= np.linspace(-np.pi,np.pi,100)\n",
        "y= np.sin(x)\n",
        "my_file= open('sin_data.txt','w')\n",
        "my_file.write('#This is my sine function.\\n')\n",
        "for i in range(len(x)):\n",
        "  my_file.write('%f \\t %f \\n'%(x[i],y[i]))\n",
        "my_file.close()\n",
        "data= np.loadtxt(\"sin_data.txt\")\n",
        "#print(data)\n",
        "#rint(data[:,0])#print x values\n",
        "#print(data[:,1])#print y values\n",
        "print(\"binary h5###########\")\n",
        "data_array=np.vstack((x,y))\n",
        "np.save('sin_data_bin',data_array)\n",
        "data_bin= np.load('sin_data_bin.npy')\n",
        "print(data_bin)\n",
        "print(\"binary h5################\")\n",
        "write_file= h5py.File('abc.h5','w')\n",
        "write_file['data_1']= data_array\n",
        "write_file.close()\n",
        "read_file=h5py.File('abc.h5')\n",
        "z=read_file[data_1]\n",
        "start=timeit.default_timer()\n",
        "#read_file = h5py.File(‘data_set.h5’)\n",
        "data = read_file[‘data_1’]\n",
        "data = np.array(data)\n",
        "t = data[:,0]\n",
        "x = data[:,1]\n",
        "stop = timeit.default_timer()\n",
        "print (“ Time taken (in econds) = ”, stop-start)"
      ]
    },
    {
      "cell_type": "code",
      "source": [
        ""
      ],
      "metadata": {
        "id": "nqRff90CVD3Q"
      },
      "execution_count": null,
      "outputs": []
    }
  ]
}